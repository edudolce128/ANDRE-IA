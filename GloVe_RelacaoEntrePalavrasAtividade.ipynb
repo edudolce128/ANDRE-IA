{
  "nbformat": 4,
  "nbformat_minor": 0,
  "metadata": {
    "colab": {
      "provenance": [],
      "include_colab_link": true
    },
    "kernelspec": {
      "name": "python3",
      "display_name": "Python 3"
    },
    "language_info": {
      "name": "python"
    }
  },
  "cells": [
    {
      "cell_type": "markdown",
      "metadata": {
        "id": "view-in-github",
        "colab_type": "text"
      },
      "source": [
        "<a href=\"https://colab.research.google.com/github/edudolce128/ANDRE-IA/blob/main/GloVe_RelacaoEntrePalavrasAtividade.ipynb\" target=\"_parent\"><img src=\"https://colab.research.google.com/assets/colab-badge.svg\" alt=\"Open In Colab\"/></a>"
      ]
    },
    {
      "cell_type": "code",
      "execution_count": 1,
      "metadata": {
        "colab": {
          "base_uri": "https://localhost:8080/"
        },
        "id": "qbiQKrkfQtrR",
        "outputId": "93d00d16-73f7-4622-a7ad-caea614cd48a"
      },
      "outputs": [
        {
          "output_type": "stream",
          "name": "stdout",
          "text": [
            "[==================================================] 100.0% 128.1/128.1MB downloaded\n",
            "Vetor GloVe para a palavra 'music': [ 1.2705e-01  3.7253e-01  2.3076e-01 -1.0727e-01  1.4273e+00  7.7990e-01\n",
            " -5.5009e-02 -1.8909e-01 -4.2828e-01  2.8443e-01  1.1920e-01 -6.1978e-01\n",
            " -3.9817e-01  1.9127e-01 -3.2098e-01 -2.4116e-01  6.0927e-01 -3.5765e-01\n",
            "  2.0159e-01  9.1107e-01 -4.8977e-01 -2.8970e-01  1.0098e+00 -6.6149e-01\n",
            "  7.0414e-02  1.3353e-01  4.2234e-01 -8.0188e-02  1.0722e+00  2.6426e-01\n",
            " -7.3982e-01  6.4958e-01 -4.8367e-01  8.5837e-01 -3.9008e-01 -1.3020e-01\n",
            "  2.2331e-01  2.0818e-01 -4.7260e-01 -1.7275e+00  3.7209e-01  5.5544e-01\n",
            " -8.9025e-01  8.7442e-01 -2.9063e-01 -7.1175e-01 -3.3437e-01 -4.1141e-01\n",
            "  9.9049e-01 -4.6207e-01 -2.5777e-01  4.9513e-02 -2.2242e-01 -3.3757e-01\n",
            " -1.5677e-01 -2.9576e+00 -5.8878e-01  2.2432e-01  1.6375e+00  1.0263e+00\n",
            "  8.9573e-01  1.3718e+00 -3.7709e-01 -8.2095e-02  1.6339e-01 -2.5294e-01\n",
            "  1.0987e+00 -2.0032e-03  7.9235e-01 -2.9403e-01 -2.6906e-01  2.3123e-01\n",
            "  3.3826e-01  1.7150e-01 -3.5479e-01 -1.3497e-01  6.4417e-02 -3.4495e-01\n",
            "  1.0946e-01 -6.6469e-01 -7.0734e-02 -6.8739e-01  2.7765e-01  1.2298e-01\n",
            " -1.7341e+00  1.4590e-01 -6.3138e-01 -1.0531e+00 -2.9972e-01 -5.5542e-02\n",
            " -2.6262e-02 -8.5846e-02 -4.5362e-01  2.0519e-01 -3.3822e-01 -3.9972e-02\n",
            " -9.6096e-01 -5.0523e-01  9.6006e-01  7.6983e-01]\n",
            "Palavras mais similares a 'music': [('musical', 0.8128045797348022), ('songs', 0.7978180646896362), ('dance', 0.7896507382392883), ('pop', 0.7862942218780518), ('recording', 0.7650765776634216)]\n"
          ]
        }
      ],
      "source": [
        "import gensim.downloader as api\n",
        "\n",
        "# Carregar embeddings GloVe pré-treinados\n",
        "glove_model = api.load(\"glove-wiki-gigaword-100\")\n",
        "\n",
        "# Obter vetor de palavra para uma palavra específica\n",
        "word_vector = glove_model['music']\n",
        "print(\"Vetor GloVe para a palavra 'music':\", word_vector)\n",
        "\n",
        "# Encontrar palavras mais similares\n",
        "similar_words = glove_model.most_similar('music', topn=5)\n",
        "print(\"Palavras mais similares a 'music':\", similar_words)\n"
      ]
    }
  ]
}